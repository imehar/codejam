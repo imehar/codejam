{
 "cells": [
  {
   "cell_type": "code",
   "execution_count": 59,
   "metadata": {},
   "outputs": [
    {
     "name": "stdout",
     "output_type": "stream",
     "text": [
      "2\n",
      "2\n",
      "SE\n",
      "Case #1: ES\n",
      "5\n",
      "EESSSESE\n",
      "Case #2: SSEEESES\n"
     ]
    }
   ],
   "source": [
    "import numpy as np\n",
    "def moves(i,j,s,ans,n,count,found):\n",
    "    if i<n and j<n and count < (2*n-2) and count>=0:\n",
    "        for opt in [(i+1,j),(i,j+1)]:\n",
    "            if opt[0]<n and opt[1]<n and move((i,j),opt,s[count]):\n",
    "                if opt == (i+1,j):\n",
    "                    ans[count] = 'S'\n",
    "                else:\n",
    "                    ans[count] = 'E'\n",
    "                if opt == (n-1,n-1):\n",
    "                    found = True\n",
    "                    return (''.join(np.trim_zeros(ans)))\n",
    "                    break\n",
    "                else:\n",
    "                    return moves(opt[0],opt[1],s,ans,n,count+1,found)\n",
    "\n",
    "def move(fro,opt,s):\n",
    "    if fro[0] == opt[0] and s=='E':\n",
    "        return False\n",
    "    elif fro[1] == opt[1] and s=='S':\n",
    "        return False\n",
    "    else:\n",
    "        return True\n",
    "\n",
    "testcase = int(input())\n",
    "for _ in range(testcase):\n",
    "    n = int(input())\n",
    "    way = input()\n",
    "    answer = [0]*(2*n-2)\n",
    "    output = moves(0,0,way,answer,n,0,False)\n",
    "    print(\"Case #\"+str(_+1)+\": \"+str(output))"
   ]
  }
 ],
 "metadata": {
  "kernelspec": {
   "display_name": "Python 3",
   "language": "python",
   "name": "python3"
  },
  "language_info": {
   "codemirror_mode": {
    "name": "ipython",
    "version": 3
   },
   "file_extension": ".py",
   "mimetype": "text/x-python",
   "name": "python",
   "nbconvert_exporter": "python",
   "pygments_lexer": "ipython3",
   "version": "3.7.1"
  }
 },
 "nbformat": 4,
 "nbformat_minor": 2
}
