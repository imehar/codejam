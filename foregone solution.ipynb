{
 "cells": [
  {
   "cell_type": "code",
   "execution_count": 35,
   "metadata": {},
   "outputs": [
    {
     "name": "stdout",
     "output_type": "stream",
     "text": [
      "3\n",
      "4\n",
      "Case #1: 2 2\n",
      "940\n",
      "Case #2: 20 920\n",
      "444\n",
      "Case #3: 222 222\n"
     ]
    }
   ],
   "source": [
    "import numpy as np\n",
    "\n",
    "testcase = int(input())\n",
    "for _ in range(testcase):\n",
    "    n = input()\n",
    "    nums = np.array(list(n),dtype=int)\n",
    "    dign = int(n)\n",
    "    lim = len(n)-1\n",
    "    a = 0\n",
    "    for e,i in enumerate(nums):\n",
    "        if i==4:\n",
    "            a += 2*pow(10,(lim-e))\n",
    "    print(\"Case #\"+str(_+1)+\":\", a,(dign-a))"
   ]
  }
 ],
 "metadata": {
  "kernelspec": {
   "display_name": "Python 3",
   "language": "python",
   "name": "python3"
  },
  "language_info": {
   "codemirror_mode": {
    "name": "ipython",
    "version": 3
   },
   "file_extension": ".py",
   "mimetype": "text/x-python",
   "name": "python",
   "nbconvert_exporter": "python",
   "pygments_lexer": "ipython3",
   "version": "3.7.1"
  }
 },
 "nbformat": 4,
 "nbformat_minor": 2
}
