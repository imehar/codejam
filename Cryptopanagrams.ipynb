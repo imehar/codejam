{
 "cells": [
  {
   "cell_type": "code",
   "execution_count": 154,
   "metadata": {},
   "outputs": [
    {
     "name": "stdout",
     "output_type": "stream",
     "text": [
      "2\n",
      "103 31\n",
      "217 1891 4819 2291 2987 3811 1739 2491 4717 445 65 1079 8383 5353 901 187 649 1003 697 3239 7663 291 123 779 1007 3551 1943 2117 1679 989 3053\n",
      "Case #1: CJQUIZKNOWBEVYOFDPFLUXALGORITHMS\n",
      "10000 25\n",
      "3292937 175597 18779 50429 375469 1651121 2102 3722 2376497 611683 489059 2328901 3150061 829981 421301 76409 38477 291931 730241 959821 1664197 3057407 4267589 4729181 5335543\n",
      "Case #2: SUBDERMATOGLYPHICFJKNQVWXZ\n"
     ]
    }
   ],
   "source": [
    "import numpy as np\n",
    "\n",
    "def findfirstprime(prime,cipher):    \n",
    "    found = False\n",
    "    for i in prime:\n",
    "        for j in prime:\n",
    "            if i* j == cipher[0]:\n",
    "                return i\n",
    "                found = True\n",
    "                break\n",
    "        if found:\n",
    "            break\n",
    "    \n",
    "\n",
    "def manipulated_seive(N):\n",
    "    MAX_SIZE = N+2\n",
    "    prime = []\n",
    "    isprime = [True] * (N+2)\n",
    "    SPF = [None] * (N+2)\n",
    "    isprime[0] = isprime[1] = False\n",
    "    for i in range(2, N):  \n",
    "        if isprime[i] == True:\n",
    "            prime.append(i)\n",
    "            SPF[i] = i\n",
    "        j = 0\n",
    "        while (j < len(prime) and i * prime[j] < N and prime[j] <= SPF[i]): \n",
    "            isprime[i * prime[j]] = False\n",
    "            SPF[i * prime[j]] = prime[j] \n",
    "            j += 1\n",
    "    return prime\n",
    "\n",
    "\n",
    "testcase = int(input())\n",
    "for _ in  range(testcase):\n",
    "    N,L = map(int,input().split(' '))\n",
    "    N+=1\n",
    "    cipher = list(map(int,input().split()))\n",
    "    prime = manipulated_seive(N+1)\n",
    "    i = 0\n",
    "    while i < len(prime) and prime[i] <= N: \n",
    "#         print(prime[i], end = \" \")  \n",
    "        i += 1\n",
    "\n",
    "#     len(prime)\n",
    "    p = findfirstprime(prime,cipher)\n",
    "    charac_prime = [p]\n",
    "    for ele in cipher:\n",
    "        p = ele/p\n",
    "    #     print(p)\n",
    "        charac_prime.append(p)\n",
    "    sorted_char = charac_prime.copy()\n",
    "    sorted_char.sort()\n",
    "    alpha = dict()\n",
    "    sorted_char = np.unique(sorted_char)\n",
    "    for i in range(len(sorted_char)):\n",
    "        alpha[int(sorted_char[i])] = chr(65 + i)\n",
    "    final_ans= ''.join([alpha[int(i)] for i in charac_prime])\n",
    "    print('Case #'+str(_+1)+':', final_ans)"
   ]
  },
  {
   "cell_type": "code",
   "execution_count": null,
   "metadata": {},
   "outputs": [],
   "source": []
  }
 ],
 "metadata": {
  "kernelspec": {
   "display_name": "Python 3",
   "language": "python",
   "name": "python3"
  },
  "language_info": {
   "codemirror_mode": {
    "name": "ipython",
    "version": 3
   },
   "file_extension": ".py",
   "mimetype": "text/x-python",
   "name": "python",
   "nbconvert_exporter": "python",
   "pygments_lexer": "ipython3",
   "version": "3.7.1"
  }
 },
 "nbformat": 4,
 "nbformat_minor": 2
}
